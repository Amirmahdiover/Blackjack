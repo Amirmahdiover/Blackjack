{
 "cells": [
  {
   "cell_type": "code",
   "execution_count": 1,
   "id": "initial_id",
   "metadata": {
    "collapsed": true,
    "ExecuteTime": {
     "end_time": "2024-07-12T09:51:44.250417Z",
     "start_time": "2024-07-12T09:51:44.246016Z"
    }
   },
   "outputs": [],
   "source": [
    "suits = ('Hearts', 'Diamonds', 'Spades', 'Clubs')\n",
    "ranks = ('Two', 'Three', 'Four', 'Five', 'Six', 'Seven', 'Eight', 'Nine', 'Ten', 'Jack', 'Queen', 'King', 'Ace')\n",
    "values = {'Two':2, 'Three':3, 'Four':4, 'Five':5, 'Six':6, 'Seven':7, 'Eight':8, 'Nine':9, 'Ten':10, 'Jack':10,\n",
    "         'Queen':10, 'King':10, 'Ace':11}\n",
    "import random\n",
    "playing = True"
   ]
  },
  {
   "cell_type": "markdown",
   "source": [
    "**Create a Card Class**"
   ],
   "metadata": {
    "collapsed": false
   },
   "id": "fe73bc774558c35f"
  },
  {
   "cell_type": "code",
   "outputs": [],
   "source": [
    "class Card:\n",
    "\n",
    "    def __init__(self,suit,rank):\n",
    "        self.suit = suit\n",
    "        self.rank = rank\n",
    "        \n",
    "    def __str__(self):\n",
    "        return self.rank + ' of ' + self.suit"
   ],
   "metadata": {
    "collapsed": false,
    "ExecuteTime": {
     "end_time": "2024-07-12T09:51:44.254405Z",
     "start_time": "2024-07-12T09:51:44.251418Z"
    }
   },
   "id": "796f21e01b3cafe0",
   "execution_count": 2
  },
  {
   "cell_type": "markdown",
   "source": [
    "**Create a Deck Class**"
   ],
   "metadata": {
    "collapsed": false
   },
   "id": "92258ce028021d1"
  },
  {
   "cell_type": "code",
   "outputs": [],
   "source": [
    "class Deck:\n",
    "    \n",
    "    def __init__(self):\n",
    "        self.deck = []  \n",
    "        for suit in suits:\n",
    "            for rank in ranks:\n",
    "                self.deck.append(Card(suit,rank))  \n",
    "    \n",
    "    def __str__(self):\n",
    "        deck_comp = ''  \n",
    "        for card in self.deck:\n",
    "            deck_comp += '\\n '+card.__str__()\n",
    "        return 'The deck has:' + deck_comp\n",
    "\n",
    "    def shuffle(self):\n",
    "        random.shuffle(self.deck)\n",
    "        \n",
    "    def deal(self):\n",
    "        single_card = self.deck.pop()\n",
    "        return single_card"
   ],
   "metadata": {
    "collapsed": false,
    "ExecuteTime": {
     "end_time": "2024-07-12T09:51:44.258461Z",
     "start_time": "2024-07-12T09:51:44.255404Z"
    }
   },
   "id": "8e92b52de13a7959",
   "execution_count": 3
  },
  {
   "cell_type": "markdown",
   "source": [
    "**TESTING**"
   ],
   "metadata": {
    "collapsed": false
   },
   "id": "1d8a095a154e203c"
  },
  {
   "cell_type": "code",
   "outputs": [
    {
     "name": "stdout",
     "output_type": "stream",
     "text": [
      "The deck has:\n",
      " Two of Hearts\n",
      " Three of Hearts\n",
      " Four of Hearts\n",
      " Five of Hearts\n",
      " Six of Hearts\n",
      " Seven of Hearts\n",
      " Eight of Hearts\n",
      " Nine of Hearts\n",
      " Ten of Hearts\n",
      " Jack of Hearts\n",
      " Queen of Hearts\n",
      " King of Hearts\n",
      " Ace of Hearts\n",
      " Two of Diamonds\n",
      " Three of Diamonds\n",
      " Four of Diamonds\n",
      " Five of Diamonds\n",
      " Six of Diamonds\n",
      " Seven of Diamonds\n",
      " Eight of Diamonds\n",
      " Nine of Diamonds\n",
      " Ten of Diamonds\n",
      " Jack of Diamonds\n",
      " Queen of Diamonds\n",
      " King of Diamonds\n",
      " Ace of Diamonds\n",
      " Two of Spades\n",
      " Three of Spades\n",
      " Four of Spades\n",
      " Five of Spades\n",
      " Six of Spades\n",
      " Seven of Spades\n",
      " Eight of Spades\n",
      " Nine of Spades\n",
      " Ten of Spades\n",
      " Jack of Spades\n",
      " Queen of Spades\n",
      " King of Spades\n",
      " Ace of Spades\n",
      " Two of Clubs\n",
      " Three of Clubs\n",
      " Four of Clubs\n",
      " Five of Clubs\n",
      " Six of Clubs\n",
      " Seven of Clubs\n",
      " Eight of Clubs\n",
      " Nine of Clubs\n",
      " Ten of Clubs\n",
      " Jack of Clubs\n",
      " Queen of Clubs\n",
      " King of Clubs\n",
      " Ace of Clubs\n"
     ]
    }
   ],
   "source": [
    "test_deck = Deck()\n",
    "print(test_deck)"
   ],
   "metadata": {
    "collapsed": false,
    "ExecuteTime": {
     "end_time": "2024-07-12T09:51:44.263793Z",
     "start_time": "2024-07-12T09:51:44.258461Z"
    }
   },
   "id": "a8b308d615332f60",
   "execution_count": 4
  },
  {
   "cell_type": "markdown",
   "source": [
    "**Create a Hand Class**"
   ],
   "metadata": {
    "collapsed": false
   },
   "id": "be90acc8ab3d8d0b"
  },
  {
   "cell_type": "code",
   "outputs": [],
   "source": [
    "class Hand:\n",
    "    def __init__(self):\n",
    "        self.cards = []   \n",
    "        self.value = 0   \n",
    "        self.aces = 0    \n",
    "    \n",
    "    def add_card(self,card):\n",
    "        self.cards.append(card)\n",
    "        self.value += values[card.rank]\n",
    "    \n",
    "    def adjust_for_ace(self):\n",
    "        pass"
   ],
   "metadata": {
    "collapsed": false,
    "ExecuteTime": {
     "end_time": "2024-07-12T09:51:44.267946Z",
     "start_time": "2024-07-12T09:51:44.264792Z"
    }
   },
   "id": "b8c0b23feb7faedc",
   "execution_count": 5
  },
  {
   "cell_type": "markdown",
   "source": [
    "**TESTING**"
   ],
   "metadata": {
    "collapsed": false
   },
   "id": "7b7eb065071aed1b"
  },
  {
   "cell_type": "code",
   "outputs": [
    {
     "data": {
      "text/plain": "15"
     },
     "execution_count": 6,
     "metadata": {},
     "output_type": "execute_result"
    }
   ],
   "source": [
    "test_deck = Deck()\n",
    "test_deck.shuffle()\n",
    "test_player = Hand()\n",
    "test_player.add_card(test_deck.deal())\n",
    "test_player.add_card(test_deck.deal())\n",
    "test_player.value"
   ],
   "metadata": {
    "collapsed": false,
    "ExecuteTime": {
     "end_time": "2024-07-12T09:51:44.275314Z",
     "start_time": "2024-07-12T09:51:44.267946Z"
    }
   },
   "id": "49e34eba8a720bd",
   "execution_count": 6
  },
  {
   "cell_type": "code",
   "outputs": [
    {
     "name": "stdout",
     "output_type": "stream",
     "text": [
      "Ten of Clubs\n",
      "Five of Clubs\n"
     ]
    }
   ],
   "source": [
    "for card in test_player.cards:\n",
    "    print(card)"
   ],
   "metadata": {
    "collapsed": false,
    "ExecuteTime": {
     "end_time": "2024-07-12T09:51:44.279444Z",
     "start_time": "2024-07-12T09:51:44.275314Z"
    }
   },
   "id": "80df9e18f3332d02",
   "execution_count": 7
  },
  {
   "cell_type": "markdown",
   "source": [
    "**reduce the Ace's value from 11 to 1**"
   ],
   "metadata": {
    "collapsed": false
   },
   "id": "45a4df54f3593c05"
  },
  {
   "cell_type": "code",
   "outputs": [],
   "source": [
    "class Hand:\n",
    "    \n",
    "    def __init__(self):\n",
    "        self.cards = []  \n",
    "        self.value = 0   \n",
    "        self.aces = 0    \n",
    "    \n",
    "    def add_card(self,card):\n",
    "        self.cards.append(card)\n",
    "        self.value += values[card.rank]\n",
    "        if card.rank == 'Ace':\n",
    "            self.aces += 1  \n",
    "    \n",
    "    def adjust_for_ace(self):\n",
    "        while self.value > 21 and self.aces:\n",
    "            self.value -= 10\n",
    "            self.aces -= 1 "
   ],
   "metadata": {
    "collapsed": false,
    "ExecuteTime": {
     "end_time": "2024-07-12T09:51:44.283752Z",
     "start_time": "2024-07-12T09:51:44.279444Z"
    }
   },
   "id": "33be73140e15c7b6",
   "execution_count": 8
  },
  {
   "cell_type": "markdown",
   "source": [
    "**Create a Chips Class**"
   ],
   "metadata": {
    "collapsed": false
   },
   "id": "c7c9b26c35f09a09"
  },
  {
   "cell_type": "code",
   "outputs": [],
   "source": [
    "class Chips:\n",
    "    \n",
    "    def __init__(self):\n",
    "        self.total = 100  \n",
    "        self.bet = 0\n",
    "        \n",
    "    def win_bet(self):\n",
    "        self.total += self.bet\n",
    "    \n",
    "    def lose_bet(self):\n",
    "        self.total -= self.bet"
   ],
   "metadata": {
    "collapsed": false,
    "ExecuteTime": {
     "end_time": "2024-07-12T09:51:44.287503Z",
     "start_time": "2024-07-12T09:51:44.283752Z"
    }
   },
   "id": "494653184c2d9c1",
   "execution_count": 9
  },
  {
   "cell_type": "markdown",
   "source": [
    "**Taking bets**"
   ],
   "metadata": {
    "collapsed": false
   },
   "id": "6147795223357547"
  },
  {
   "cell_type": "code",
   "outputs": [],
   "source": [
    "def take_bet(chips):\n",
    "    \n",
    "    while True:\n",
    "        try:\n",
    "            chips.bet = int(input('How many chips would you like to bet? '))\n",
    "        except ValueError:\n",
    "            print('Sorry, a bet must be an integer!')\n",
    "        else:\n",
    "            if chips.bet > chips.total:\n",
    "                print(\"Sorry, your bet can't exceed\",chips.total)\n",
    "            else:\n",
    "                break"
   ],
   "metadata": {
    "collapsed": false,
    "ExecuteTime": {
     "end_time": "2024-07-12T09:51:44.291343Z",
     "start_time": "2024-07-12T09:51:44.287503Z"
    }
   },
   "id": "4541e406aad1d788",
   "execution_count": 10
  },
  {
   "cell_type": "markdown",
   "source": [
    "**Taking hits**"
   ],
   "metadata": {
    "collapsed": false
   },
   "id": "d9ae765cdce03a35"
  },
  {
   "cell_type": "code",
   "outputs": [],
   "source": [
    "def hit(deck,hand):\n",
    "    \n",
    "    hand.add_card(deck.deal())\n",
    "    hand.adjust_for_ace()"
   ],
   "metadata": {
    "collapsed": false,
    "ExecuteTime": {
     "end_time": "2024-07-12T09:51:44.295268Z",
     "start_time": "2024-07-12T09:51:44.291343Z"
    }
   },
   "id": "b499e59e197818c7",
   "execution_count": 11
  },
  {
   "cell_type": "markdown",
   "source": [
    "**Prompting the Player to Hit or Stand**"
   ],
   "metadata": {
    "collapsed": false
   },
   "id": "3ce21c43add14b63"
  },
  {
   "cell_type": "code",
   "outputs": [],
   "source": [
    "def hit_or_stand(deck,hand):\n",
    "    global playing  \n",
    "    \n",
    "    while True:\n",
    "        x = input(\"Would you like to Hit or Stand? Enter 'h' or 's' \")\n",
    "        \n",
    "        if x[0].lower() == 'h':\n",
    "            hit(deck,hand)  \n",
    "\n",
    "        elif x[0].lower() == 's':\n",
    "            print(\"Player stands. Dealer is playing.\")\n",
    "            playing = False\n",
    "\n",
    "        else:\n",
    "            print(\"Sorry, please try again.\")\n",
    "            continue\n",
    "        break"
   ],
   "metadata": {
    "collapsed": false,
    "ExecuteTime": {
     "end_time": "2024-07-12T09:51:44.299195Z",
     "start_time": "2024-07-12T09:51:44.295268Z"
    }
   },
   "id": "61f0f98b2ef6bfd3",
   "execution_count": 12
  },
  {
   "cell_type": "markdown",
   "source": [
    "**Display cards**"
   ],
   "metadata": {
    "collapsed": false
   },
   "id": "ce2a234dd322f6cf"
  },
  {
   "cell_type": "code",
   "outputs": [],
   "source": [
    "def show_some(player,dealer):\n",
    "    print(\"\\nDealer's Hand:\")\n",
    "    print(\" <card hidden>\")\n",
    "    print('',dealer.cards[1])  \n",
    "    print(\"\\nPlayer's Hand:\", *player.cards, sep='\\n ')\n",
    "    \n",
    "def show_all(player,dealer):\n",
    "    print(\"\\nDealer's Hand:\", *dealer.cards, sep='\\n ')\n",
    "    print(\"Dealer's Hand =\",dealer.value)\n",
    "    print(\"\\nPlayer's Hand:\", *player.cards, sep='\\n ')\n",
    "    print(\"Player's Hand =\",player.value)"
   ],
   "metadata": {
    "collapsed": false,
    "ExecuteTime": {
     "end_time": "2024-07-12T09:51:44.303553Z",
     "start_time": "2024-07-12T09:51:44.299195Z"
    }
   },
   "id": "f557dacaa3a457a8",
   "execution_count": 13
  },
  {
   "cell_type": "markdown",
   "source": [
    "**Functions to handle end of game scenarios**"
   ],
   "metadata": {
    "collapsed": false
   },
   "id": "9590389984cecbf3"
  },
  {
   "cell_type": "code",
   "outputs": [],
   "source": [
    "def player_busts(player,dealer,chips):\n",
    "    print(\"Player busts!\")\n",
    "    chips.lose_bet()\n",
    "\n",
    "def player_wins(player,dealer,chips):\n",
    "    print(\"Player wins!\")\n",
    "    chips.win_bet()\n",
    "\n",
    "def dealer_busts(player,dealer,chips):\n",
    "    print(\"Dealer busts!\")\n",
    "    chips.win_bet()\n",
    "    \n",
    "def dealer_wins(player,dealer,chips):\n",
    "    print(\"Dealer wins!\")\n",
    "    chips.lose_bet()\n",
    "    \n",
    "def push(player,dealer):\n",
    "    print(\"Dealer and Player tie! It's a push.\")"
   ],
   "metadata": {
    "collapsed": false,
    "ExecuteTime": {
     "end_time": "2024-07-12T09:51:44.308035Z",
     "start_time": "2024-07-12T09:51:44.304552Z"
    }
   },
   "id": "18f18daa661212e5",
   "execution_count": 14
  },
  {
   "cell_type": "markdown",
   "source": [
    "**The Game**"
   ],
   "metadata": {
    "collapsed": false
   },
   "id": "659a983cacac4433"
  },
  {
   "cell_type": "code",
   "outputs": [
    {
     "name": "stdout",
     "output_type": "stream",
     "text": [
      "Welcome to BlackJack! Get as close to 21 as you can without going over!\n",
      "    Dealer hits until she reaches 17. Aces count as 1 or 11.\n",
      "\n",
      "Dealer's Hand:\n",
      " <card hidden>\n",
      " Eight of Hearts\n",
      "\n",
      "Player's Hand:\n",
      " Jack of Spades\n",
      " Six of Clubs\n",
      "\n",
      "Dealer's Hand:\n",
      " <card hidden>\n",
      " Eight of Hearts\n",
      "\n",
      "Player's Hand:\n",
      " Jack of Spades\n",
      " Six of Clubs\n",
      " Ace of Diamonds\n",
      "Player stands. Dealer is playing.\n",
      "\n",
      "Dealer's Hand:\n",
      " <card hidden>\n",
      " Eight of Hearts\n",
      "\n",
      "Player's Hand:\n",
      " Jack of Spades\n",
      " Six of Clubs\n",
      " Ace of Diamonds\n",
      "\n",
      "Dealer's Hand:\n",
      " Two of Diamonds\n",
      " Eight of Hearts\n",
      " Ace of Spades\n",
      "Dealer's Hand = 21\n",
      "\n",
      "Player's Hand:\n",
      " Jack of Spades\n",
      " Six of Clubs\n",
      " Ace of Diamonds\n",
      "Player's Hand = 17\n",
      "Dealer wins!\n",
      "\n",
      "Player's winnings stand at 35\n",
      "Thanks for playing!\n"
     ]
    }
   ],
   "source": [
    "while True:\n",
    "    \n",
    "    print('Welcome to BlackJack! Get as close to 21 as you can without going over!\\n\\\n",
    "    Dealer hits until she reaches 17. Aces count as 1 or 11.')\n",
    "    \n",
    "    \n",
    "    deck = Deck()\n",
    "    deck.shuffle()\n",
    "    \n",
    "    player_hand = Hand()\n",
    "    player_hand.add_card(deck.deal())\n",
    "    player_hand.add_card(deck.deal())\n",
    "    \n",
    "    dealer_hand = Hand()\n",
    "    dealer_hand.add_card(deck.deal())\n",
    "    dealer_hand.add_card(deck.deal())\n",
    "            \n",
    "    \n",
    "    player_chips = Chips()     \n",
    "    \n",
    "    \n",
    "    take_bet(player_chips)\n",
    "    \n",
    "    \n",
    "    show_some(player_hand,dealer_hand)\n",
    "    \n",
    "    while playing:  \n",
    "        \n",
    "        \n",
    "        hit_or_stand(deck,player_hand) \n",
    "        \n",
    "       \n",
    "        show_some(player_hand,dealer_hand)  \n",
    "        \n",
    "        \n",
    "        if player_hand.value > 21:\n",
    "            player_busts(player_hand,dealer_hand,player_chips)\n",
    "            break        \n",
    "\n",
    "\n",
    "   \n",
    "    if player_hand.value <= 21:\n",
    "        \n",
    "        while dealer_hand.value < 17:\n",
    "            hit(deck,dealer_hand)    \n",
    "    \n",
    "        \n",
    "        show_all(player_hand,dealer_hand)\n",
    "        \n",
    "        \n",
    "        if dealer_hand.value > 21:\n",
    "            dealer_busts(player_hand,dealer_hand,player_chips)\n",
    "\n",
    "        elif dealer_hand.value > player_hand.value:\n",
    "            dealer_wins(player_hand,dealer_hand,player_chips)\n",
    "\n",
    "        elif dealer_hand.value < player_hand.value:\n",
    "            player_wins(player_hand,dealer_hand,player_chips)\n",
    "\n",
    "        else:\n",
    "            push(player_hand,dealer_hand)        \n",
    "    \n",
    "    \n",
    "    print(\"\\nPlayer's winnings stand at\",player_chips.total)\n",
    "    \n",
    "    \n",
    "    new_game = input(\"Would you like to play another hand? Enter 'y' or 'n' \")\n",
    "    \n",
    "    if new_game[0].lower()=='y':\n",
    "        playing=True\n",
    "        continue\n",
    "    else:\n",
    "        print(\"Thanks for playing!\")\n",
    "        break"
   ],
   "metadata": {
    "collapsed": false,
    "ExecuteTime": {
     "end_time": "2024-07-12T09:51:57.435163Z",
     "start_time": "2024-07-12T09:51:44.316015Z"
    }
   },
   "id": "c91610643661c9c8",
   "execution_count": 15
  }
 ],
 "metadata": {
  "kernelspec": {
   "display_name": "Python 3",
   "language": "python",
   "name": "python3"
  },
  "language_info": {
   "codemirror_mode": {
    "name": "ipython",
    "version": 2
   },
   "file_extension": ".py",
   "mimetype": "text/x-python",
   "name": "python",
   "nbconvert_exporter": "python",
   "pygments_lexer": "ipython2",
   "version": "2.7.6"
  }
 },
 "nbformat": 4,
 "nbformat_minor": 5
}
